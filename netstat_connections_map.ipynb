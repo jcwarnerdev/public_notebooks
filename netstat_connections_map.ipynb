{
 "cells": [
  {
   "cell_type": "markdown",
   "metadata": {},
   "source": [
    "### Netstat Connection Locations\n",
    "\n",
    "#### See locations for IPs that your computer is connected to.\n",
    "\n",
    "##### Requirements:\n",
    "- ipinfo.io API key - Free tier but registration required - https://ipinfo.io/account/token\n",
    "- Google API key with billing - $300 credit for 90 days and cheap after - https://developers.google.com/maps/get-started\n",
    "\n"
   ]
  },
  {
   "cell_type": "code",
   "execution_count": null,
   "metadata": {},
   "outputs": [],
   "source": [
    "import pandas as pd\n",
    "import re\n",
    "import requests\n",
    "import json\n",
    "from ipywidgets import interact, widgets\n",
    "from IPython.display import Image\n",
    "from io import BytesIO\n",
    "import googlemaps\n",
    "from googlemaps.maps import StaticMapMarker\n",
    "\n",
    "\n",
    "pd.set_option('display.max_rows', 500)"
   ]
  },
  {
   "cell_type": "markdown",
   "metadata": {},
   "source": [
    "##### Run command in terminal to copy netstat to clipboard:\n",
    "netstat -n | clip\n",
    "\n",
    "###### Paste in netstat input field in next cell"
   ]
  },
  {
   "cell_type": "code",
   "execution_count": null,
   "metadata": {
    "scrolled": true
   },
   "outputs": [],
   "source": [
    "ipinfo_input = widgets.Text(\n",
    " placeholder='paste ipinfo token',\n",
    " description='ipinfo token'\n",
    " )\n",
    "\n",
    "google_input = widgets.Text(\n",
    " placeholder='paste google token',\n",
    " description='google token'\n",
    " )\n",
    "\n",
    "netstat_input = widgets.Textarea(\n",
    " value='',\n",
    " placeholder='paste netstat',\n",
    " description='netstat'\n",
    " )\n",
    "\n",
    "\n",
    "display(ipinfo_input, google_input, netstat_input)\n",
    "\n",
    "\n",
    "\n"
   ]
  },
  {
   "cell_type": "code",
   "execution_count": null,
   "metadata": {},
   "outputs": [],
   "source": [
    "row_list = netstat_input.value.split('\\n\\n')[1].splitlines()\n",
    "\n",
    "netstat_df = pd.DataFrame([row.split() for row in row_list[1:]], columns=['Proto', 'Local Address', 'Foreign Address', 'State'])\n",
    "\n",
    "netstat_df"
   ]
  },
  {
   "cell_type": "code",
   "execution_count": null,
   "metadata": {},
   "outputs": [],
   "source": [
    "netstat_df['Remote IP'] = netstat_df['Foreign Address'].apply(lambda x: x.split(':')[0] if '[' not in x else x.split(']:')[0].strip('['))\n",
    "\n",
    "priv4 = re.compile(\"^(?:10|127|172\\.(?:1[6-9]|2[0-9]|3[01])|192\\.168)\\..*\")\n",
    "priv6 = re.compile(\"::1\")\n",
    "\n",
    "netstat_df['Remote IP Type'] = netstat_df['Remote IP'].apply(lambda x: 'private' if (re.match(priv4, x) or re.match(priv6, x)) else 'public')\n",
    "\n",
    "remote_public_df = netstat_df.loc[netstat_df['Remote IP Type']=='public', ['Remote IP']].drop_duplicates()['Remote IP'].sort_values().to_frame().reset_index(drop=True)\n",
    "\n",
    "rmt_ip_cnt = len(remote_public_df)\n",
    "print(f'{str(rmt_ip_cnt)} remote connections in netstat')"
   ]
  },
  {
   "cell_type": "code",
   "execution_count": null,
   "metadata": {},
   "outputs": [],
   "source": [
    "data = []\n",
    "headers = {'Accept': 'application/json'}\n",
    "print('getting ip info')\n",
    "for ip in remote_public_df['Remote IP']:\n",
    "    print(ip)\n",
    "    ip_url = f'https://ipinfo.io/{ip}?token={ipinfo_input.value}'\n",
    "    res = requests.get(ip_url, headers=headers)\n",
    "    data.append(json.load(BytesIO(res.content)))\n",
    "print('ip info collected')\n",
    "    \n",
    "\n",
    "ip_info_df = pd.json_normalize(data)"
   ]
  },
  {
   "cell_type": "code",
   "execution_count": null,
   "metadata": {
    "scrolled": true
   },
   "outputs": [],
   "source": [
    "gmap_locs_df = ip_info_df['loc'].value_counts().to_frame().reset_index().rename(columns={'loc':'count', 'index':'loc'})\n",
    "\n",
    "gmaps = googlemaps.Client(key=google_input.value)\n",
    "\n",
    "markers = StaticMapMarker(gmap_locs_df['loc'].to_list())\n",
    "\n",
    "remote_ip_loc_map = gmaps.static_map(size=650, markers=markers)\n",
    "\n",
    "with open('remote_ip_loc_map.png', 'wb') as f:\n",
    "    for chunk in remote_ip_loc_map:\n",
    "        if chunk:\n",
    "            f.write(chunk)\n",
    "\n",
    "\n",
    "Image(filename='remote_ip_loc_map.png')"
   ]
  },
  {
   "cell_type": "code",
   "execution_count": null,
   "metadata": {},
   "outputs": [],
   "source": [
    "ip_info_df"
   ]
  }
 ],
 "metadata": {
  "kernelspec": {
   "display_name": "Python 3 (ipykernel)",
   "language": "python",
   "name": "python3"
  },
  "language_info": {
   "codemirror_mode": {
    "name": "ipython",
    "version": 3
   },
   "file_extension": ".py",
   "mimetype": "text/x-python",
   "name": "python",
   "nbconvert_exporter": "python",
   "pygments_lexer": "ipython3",
   "version": "3.8.12"
  }
 },
 "nbformat": 4,
 "nbformat_minor": 4
}
