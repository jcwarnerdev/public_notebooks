{
 "cells": [
  {
   "cell_type": "markdown",
   "id": "2cad2899",
   "metadata": {},
   "source": [
    "### Binder First Notebook\n",
    "A very simple notebook just to understand how Binder works with a github repo"
   ]
  },
  {
   "cell_type": "code",
   "execution_count": null,
   "id": "8cc2cd82",
   "metadata": {},
   "outputs": [],
   "source": [
    "import base64"
   ]
  },
  {
   "cell_type": "code",
   "execution_count": null,
   "id": "da904b6a",
   "metadata": {},
   "outputs": [],
   "source": [
    "itsamystery = 'ICAgICAgICAgICAgICAgICAgICAgICAgICBvb29vJCQkJCQkJCQkJ\\\n",
    "                CQkb29vbw0KICAgICAgICAgICAgICAgICAgICAgIG9vJCQkJCQkJ\\\n",
    "                CQkJCQkJCQkJCQkJCQkJCQkbw0KICAgICAgICAgICAgICAgICAgIG9\\\n",
    "                vJCQkJCQkJCQkJCQkJCQkJCQkJCQkJCQkJCQkJCQkbyAgICAgICAgIG\\\n",
    "                8kICAgJCQgbyQNCiAgIG8gJCBvbyAgICAgICAgbyQkJCQkJCQkJCQkJ\\\n",
    "                CQkJCQkJCQkJCQkJCQkJCQkJCQkJCQkJG8gICAgICAgJCQgJCQgJCRvJ\\\n",
    "                A0Kb28gJCAkICIkICAgICAgbyQkJCQkJCQkJCAgICAkJCQkJCQkJCQkJ\\\n",
    "                CQkICAgICQkJCQkJCQkJG8gICAgICAgJCQkbyQkbyQNCiIkJCQkJCRvJ\\\n",
    "                CAgICAgbyQkJCQkJCQkJCAgICAgICQkJCQkJCQkJCQkICAgICAgJCQkJC\\\n",
    "                QkJCQkJG8gICAgJCQkJCQkJCQNCiAgJCQkJCQkJCAgICAkJCQkJCQkJCQk\\\n",
    "                JCAgICAgICQkJCQkJCQkJCQkICAgICAgJCQkJCQkJCQkJCQkJCQkJCQkJCQ\\\n",
    "                kJCQNCiAgJCQkJCQkJCQkJCQkJCQkJCQkJCQkJCQgICAgJCQkJCQkJCQkJC\\\n",
    "                QkJCAgICAkJCQkJCQkJCQkJCQkJCAgIiIiJCQkDQogICAiJCQkIiIiIiQkJC\\\n",
    "                QkJCQkJCQkJCQkJCQkJCQkJCQkJCQkJCQkJCQkJCQkJCQkJCQkJCQkJCQkJCQ\\\n",
    "                gICAgICIkJCQNCiAgICAkJCQgICBvJCQkJCQkJCQkJCQkJCQkJCQkJCQkJCQk\\\n",
    "                JCQkJCQkJCQkJCQkJCQkJCQkJCQkJCQkJCQgICAgICIkJCRvDQogICBvJCQiIC\\\n",
    "                AgJCQkJCQkJCQkJCQkJCQkJCQkJCQkJCQkJCQkJCQkJCQkJCQkJCQkJCQkJCQk\\\n",
    "                JCQkJCQkICAgICAgICQkJG8NCiAgICQkJCAgICAkJCQkJCQkJCQkJCQkJCQkJC\\\n",
    "                QkJCQkJCQkJCQkJCQkJCQkJCQkJCQkJCQkJCQiICIkJCQkJCRvb29vbyQkJCRvD\\\n",
    "                QogIG8kJCRvb29vJCQkJCQgICQkJCQkJCQkJCQkJCQkJCQkJCQkJCQkJCQkJCQk\\\n",
    "                JCQkJCQkJCQgICBvJCQkJCQkJCQkJCQkJCQkJCQNCiAgJCQkJCQkJCQiJCQkJCAg\\\n",
    "                ICQkJCQkJCQkJCQkJCQkJCQkJCQkJCQkJCQkJCQkJCQkJCQgICAgICQkJCQiIiIi\\\n",
    "                IiIiIg0KICIiIiIgICAgICAgJCQkJCAgICAiJCQkJCQkJCQkJCQkJCQkJCQkJCQkJ\\\n",
    "                CQkJCQkJCIgICAgICBvJCQkDQogICAgICAgICAgICAiJCQkbyAgICAgIiIiJCQkJC\\\n",
    "                QkJCQkJCQkJCQkJCQkIiQkIiAgICAgICAgICQkJA0KICAgICAgICAgICAgICAkJC\\\n",
    "                RvICAgICAgICAgICIkJCIiJCQkJCQkIiIiIiAgICAgICAgICAgbyQkJA0KICAgIC\\\n",
    "                AgICAgICAgICAgJCQkJG8gICAgICAgICAgICAgICAgIG9vICAgICAgICAgICAgI\\\n",
    "                G8kJCQiDQogICAgICAgICAgICAgICAgIiQkJCRvICAgICAgbyQkJCQkJG8iJCQk\\\n",
    "                JG8gICAgICAgIG8kJCQkDQogICAgICAgICAgICAgICAgICAiJCQkJCRvbyAgICA\\\n",
    "                gIiIkJCQkbyQkJCQkbyAgIG8kJCQkIiIgIA0KICAgICAgICAgICAgICAgICAgIC\\\n",
    "                AgIiIkJCQkJG9vb28gICIkJCRvJCQkJCQkJCQkIiIiDQogICAgICAgICAgICAgIC\\\n",
    "                AgICAgICAgICAiIiQkJCQkJCRvbyAkJCQkJCQkJCQkICAgICAgIA0KICAgICAgICA\\\n",
    "                gICAgICAgICAgICAgICAgICAgICAgICAiIiIiJCQkJCQkJCQkJCQgICAgICAgIA0KI\\\n",
    "                CAgICAgICAgICAgICAgICAgICAgICAgICAgICAgICAgICAgJCQkJCQkJCQkJCQkICAg\\\n",
    "                ICAgIA0KICAgICAgICAgICAgICAgICAgICAgICAgICAgICAgICAgICAgICQkJCQkJCQ\\\n",
    "                kJCQiICAgICAgDQogICAgICAgICAgICAgICAgICAgICAgICAgICAgICAgICAgICAgI\\\n",
    "                CIkJCQiIiIiDQo='"
   ]
  },
  {
   "cell_type": "code",
   "execution_count": null,
   "id": "a15b4759",
   "metadata": {},
   "outputs": [],
   "source": [
    "print(base64.b64decode(itsamystery).decode())"
   ]
  }
 ],
 "metadata": {
  "kernelspec": {
   "display_name": "Python 3 (ipykernel)",
   "language": "python",
   "name": "python3"
  },
  "language_info": {
   "codemirror_mode": {
    "name": "ipython",
    "version": 3
   },
   "file_extension": ".py",
   "mimetype": "text/x-python",
   "name": "python",
   "nbconvert_exporter": "python",
   "pygments_lexer": "ipython3",
   "version": "3.8.12"
  }
 },
 "nbformat": 4,
 "nbformat_minor": 5
}
